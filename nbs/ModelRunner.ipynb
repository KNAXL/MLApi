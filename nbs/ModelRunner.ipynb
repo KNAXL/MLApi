{
 "cells": [
  {
   "cell_type": "markdown",
   "metadata": {},
   "source": [
    "# Model Runner"
   ]
  },
  {
   "cell_type": "markdown",
   "metadata": {},
   "source": [
    "This workbook is a test bed for running models."
   ]
  },
  {
   "cell_type": "markdown",
   "metadata": {},
   "source": [
    "# Imports & Setup"
   ]
  },
  {
   "cell_type": "code",
   "execution_count": 3,
   "metadata": {},
   "outputs": [],
   "source": [
    "%reload_ext autoreload\n",
    "%autoreload 2\n",
    "%matplotlib inline"
   ]
  },
  {
   "cell_type": "code",
   "execution_count": 93,
   "metadata": {},
   "outputs": [],
   "source": [
    "from fastai import *\n",
    "from fastai.vision import *\n",
    "import json\n",
    "import aiohttp\n",
    "from PIL import Image as PILImage\n",
    "\n",
    "from io import BytesIO\n",
    "from IPython.display import Image, display"
   ]
  },
  {
   "cell_type": "code",
   "execution_count": 5,
   "metadata": {},
   "outputs": [],
   "source": [
    "bs = 64\n",
    "# bs = 16   # uncomment this line if you run out of memory even after clicking Kernel->Restart"
   ]
  },
  {
   "cell_type": "code",
   "execution_count": 6,
   "metadata": {},
   "outputs": [],
   "source": [
    "modelDir = os.path.abspath(os.path.join(os.getcwd(), '../models'))\n",
    "modelName = 'pet_classifier'"
   ]
  },
  {
   "cell_type": "code",
   "execution_count": 125,
   "metadata": {},
   "outputs": [],
   "source": [
    "class ModelRunner:\n",
    "    def __init__(self, json_file_path):\n",
    "        self.json_file_path = json_file_path\n",
    "        self.model_dir = os.path.dirname(json_file_path)\n",
    "        self.model_name = os.path.splitext(os.path.basename(self.json_file_path))[0]\n",
    "        self.loaded = False\n",
    "                \n",
    "    def load(self):        \n",
    "        with open(self.json_file_path) as f:\n",
    "            json_data = json.load(f)\n",
    "            self.learner = self.create_learner_from_json(json_data['model'])       \n",
    "            self.learner.model_dir = self.model_dir\n",
    "            self.learner.load(self.model_name)    \n",
    "            self.loaded = True\n",
    "                \n",
    "    def create_learner_from_json(self, model_json):        \n",
    "        if model_json[\"model_type\"] == 'image_classificiation':            \n",
    "            data = ImageDataBunch.single_from_classes(\"/tmp\", model_json[\"image_classes\"], tfms=get_transforms(), size=224).normalize(imagenet_stats)                       \n",
    "            if model_json[\"image_architecture\"] == 'resnet34': return create_cnn(data, models.resnet34)\n",
    "            elif model_json[\"image_architecture\"] == 'resnet50': return create_cnn(data, models.resnet50)                     \n",
    "            else: raise Exception('invalid image_architecture') \n",
    "        else:\n",
    "            raise Exception('invalid model_type') \n",
    "            \n",
    "        \n",
    "    def predict_image(self, img):\n",
    "         if self.loaded == False: raise Exception(\"must call load() before predicting\")\n",
    "        \n",
    "         pred_class, pred_idx, outputs = self.learner.predict(img)\n",
    "         formatted_outputs = [\"{:.1f}%\".format(value) for value in [x * 100 for x in torch.nn.functional.softmax(outputs, dim=0)]]\n",
    "         pred_probs = sorted(\n",
    "                zip(self.learner.data.classes, map(str, formatted_outputs)),\n",
    "                key=lambda p: p[1],\n",
    "                reverse=True)\n",
    "         return pred_class, pred_probs, img\n",
    "    "
   ]
  },
  {
   "cell_type": "code",
   "execution_count": 129,
   "metadata": {},
   "outputs": [
    {
     "data": {
      "text/plain": [
       "(Category yorkshire_terrier,\n",
       " [('yorkshire_terrier', '7.0%'),\n",
       "  ('Abyssinian', '2.6%'),\n",
       "  ('Bengal', '2.6%'),\n",
       "  ('Birman', '2.6%'),\n",
       "  ('Bombay', '2.6%'),\n",
       "  ('British_Shorthair', '2.6%'),\n",
       "  ('Egyptian_Mau', '2.6%'),\n",
       "  ('Maine_Coon', '2.6%'),\n",
       "  ('Persian', '2.6%'),\n",
       "  ('Ragdoll', '2.6%'),\n",
       "  ('Russian_Blue', '2.6%'),\n",
       "  ('Siamese', '2.6%'),\n",
       "  ('Sphynx', '2.6%'),\n",
       "  ('american_bulldog', '2.6%'),\n",
       "  ('american_pit_bull_terrier', '2.6%'),\n",
       "  ('basset_hound', '2.6%'),\n",
       "  ('beagle', '2.6%'),\n",
       "  ('boxer', '2.6%'),\n",
       "  ('chihuahua', '2.6%'),\n",
       "  ('english_cocker_spaniel', '2.6%'),\n",
       "  ('english_setter', '2.6%'),\n",
       "  ('german_shorthaired', '2.6%'),\n",
       "  ('great_pyrenees', '2.6%'),\n",
       "  ('havanese', '2.6%'),\n",
       "  ('japanese_chin', '2.6%'),\n",
       "  ('keeshond', '2.6%'),\n",
       "  ('leonberger', '2.6%'),\n",
       "  ('miniature_pinscher', '2.6%'),\n",
       "  ('newfoundland', '2.6%'),\n",
       "  ('pomeranian', '2.6%'),\n",
       "  ('pug', '2.6%'),\n",
       "  ('saint_bernard', '2.6%'),\n",
       "  ('samoyed', '2.6%'),\n",
       "  ('scottish_terrier', '2.6%'),\n",
       "  ('shiba_inu', '2.6%'),\n",
       "  ('staffordshire_bull_terrier', '2.6%'),\n",
       "  ('wheaten_terrier', '2.6%')])"
      ]
     },
     "execution_count": 129,
     "metadata": {},
     "output_type": "execute_result"
    }
   ],
   "source": [
    "async def get_image(url):\n",
    "    async with aiohttp.ClientSession() as session:\n",
    "        async with session.get(url) as response:\n",
    "           bytes = await response.read()\n",
    "           return open_image(BytesIO(bytes))\n",
    "\n",
    "#url = \"https://news.nationalgeographic.com/content/dam/news/2018/05/17/you-can-train-your-cat/02-cat-training-NationalGeographic_1484324.ngsversion.1526587209178.adapt.1900.1.jpg\"\n",
    "#url = \"https://imagesvc.timeincapp.com/v3/mm/image?url=https%3A%2F%2Fpeopledotcom.files.wordpress.com%2F2018%2F02%2Ftwo-tone-cat.jpg%3Fw%3D2000&w=700&c=sc&poi=face&q=85\"\n",
    "#url = \"https://s3.amazonaws.com/cdn-origin-etr.akc.org/wp-content/uploads/2017/11/12222621/Yorkshire-Terrier-On-White-10.jpg\"\n",
    "url = \"https://i1.wp.com/www.k9web.com/wp-content/uploads/2018/03/dog-2785087_1280.jpg?ssl=1\"\n",
    "url_img = await get_image(url)\n",
    "#display(url_img)\n",
    "\n",
    "json_file_path = os.path.join(modelDir, \"pet_classifier_stage_1.json\")\n",
    "mr = ModelRunner(json_file_path); \n",
    "mr.load()\n",
    "pred_classes, pred_probs, img = mr.predict_image(url_img); pred_classes, pred_probs"
   ]
  },
  {
   "cell_type": "code",
   "execution_count": null,
   "metadata": {},
   "outputs": [],
   "source": []
  }
 ],
 "metadata": {
  "kernelspec": {
   "display_name": "Python 3",
   "language": "python",
   "name": "python3"
  },
  "language_info": {
   "codemirror_mode": {
    "name": "ipython",
    "version": 3
   },
   "file_extension": ".py",
   "mimetype": "text/x-python",
   "name": "python",
   "nbconvert_exporter": "python",
   "pygments_lexer": "ipython3",
   "version": "3.6.5"
  }
 },
 "nbformat": 4,
 "nbformat_minor": 2
}
